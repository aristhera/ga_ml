{
  "nbformat": 4,
  "nbformat_minor": 0,
  "metadata": {
    "colab": {
      "name": "Copy of zyklen.ipynb",
      "provenance": [],
      "collapsed_sections": [],
      "authorship_tag": "ABX9TyNjpjc3Uv2JkP/Z/M34mf97",
      "include_colab_link": true
    },
    "kernelspec": {
      "name": "python3",
      "display_name": "Python 3"
    }
  },
  "cells": [
    {
      "cell_type": "markdown",
      "metadata": {
        "id": "view-in-github",
        "colab_type": "text"
      },
      "source": [
        "<a href=\"https://colab.research.google.com/github/aristhera/ga_ml/blob/master/Copy_of_zyklen.ipynb\" target=\"_parent\"><img src=\"https://colab.research.google.com/assets/colab-badge.svg\" alt=\"Open In Colab\"/></a>"
      ]
    },
    {
      "cell_type": "code",
      "metadata": {
        "id": "i12Q87m1W142",
        "colab_type": "code",
        "outputId": "e1ca0faf-ddba-4e7e-fa6a-ad9330e23be1",
        "colab": {
          "base_uri": "https://localhost:8080/",
          "height": 59
        }
      },
      "source": [
        "from collections import defaultdict\n",
        "result=defaultdict(int)\n",
        "x=1000000\n",
        "infected=1000\n",
        "days=1\n",
        "def zyklen(z):    \n",
        "    global infected, days\n",
        "    while infected<x:\n",
        "        infected*=2\n",
        "        days+=z\n",
        "        result[days]+=infected\n",
        "    return result\n",
        "print(zyklen(5.5))"
      ],
      "execution_count": 0,
      "outputs": [
        {
          "output_type": "stream",
          "text": [
            "defaultdict(<class 'int'>, {6.5: 2000, 12.0: 4000, 17.5: 8000, 23.0: 16000, 28.5: 32000, 34.0: 64000, 39.5: 128000, 45.0: 256000, 50.5: 512000, 56.0: 1024000})\n"
          ],
          "name": "stdout"
        }
      ]
    },
    {
      "cell_type": "code",
      "metadata": {
        "id": "twfADiI7Xq_5",
        "colab_type": "code",
        "outputId": "3c75b0c0-d832-4962-8e2b-344cf5e1935e",
        "colab": {
          "base_uri": "https://localhost:8080/",
          "height": 295
        }
      },
      "source": [
        "import matplotlib.pyplot as plt\n",
        "%matplotlib inline\n",
        "\n",
        "result\n",
        "plt.plot(list(result.keys()), list(result.values()))\n",
        "plt.ylabel(\"infected\")\n",
        "plt.xlabel(\"days\")\n",
        "plt.title(\"growth infections\")\n",
        "plt.show()"
      ],
      "execution_count": 0,
      "outputs": [
        {
          "output_type": "display_data",
          "data": {
            "image/png": "[encoded data removed]",
            "text/plain": [
              "<Figure size 432x288 with 1 Axes>"
            ]
          },
          "metadata": {
            "tags": []
          }
        }
      ]
    }
  ]
}