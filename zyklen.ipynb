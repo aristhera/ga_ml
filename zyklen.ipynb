{
  "nbformat": 4,
  "nbformat_minor": 0,
  "metadata": {
    "colab": {
      "name": "zyklen.ipynb",
      "provenance": [],
      "collapsed_sections": [],
      "authorship_tag": "ABX9TyMybYVv1KFPqXwW3GJLYQ45",
      "include_colab_link": true
    },
    "kernelspec": {
      "name": "python3",
      "display_name": "Python 3"
    }
  },
  "cells": [
    {
      "cell_type": "markdown",
      "metadata": {
        "id": "view-in-github",
        "colab_type": "text"
      },
      "source": [
        "<a href=\"https://colab.research.google.com/github/aristhera/ga_ml/blob/master/zyklen.ipynb\" target=\"_parent\"><img src=\"https://colab.research.google.com/assets/colab-badge.svg\" alt=\"Open In Colab\"/></a>"
      ]
    },
    {
      "cell_type": "code",
      "metadata": {
        "id": "i12Q87m1W142",
        "colab_type": "code",
        "outputId": "f761d7e7-ac8b-4676-a2f3-e0f175212d6d",
        "colab": {
          "base_uri": "https://localhost:8080/",
          "height": 34
        }
      },
      "source": [
        "from collections import defaultdict\n",
        "result=defaultdict(int)\n",
        "x=1000000\n",
        "infizierte=1000\n",
        "tage=1\n",
        "def zyklen(z):    \n",
        "    global infizierte, tage\n",
        "    while infizierte<x:\n",
        "        infizierte*=2\n",
        "        tage+=z\n",
        "        result[tage]+=infizierte\n",
        "    return result\n",
        "print(zyklen(5.5))"
      ],
      "execution_count": 0,
      "outputs": [
        {
          "output_type": "stream",
          "text": [
            "defaultdict(<class 'int'>, {8: 2000, 15: 4000, 22: 8000, 29: 16000, 36: 32000, 43: 64000, 50: 128000, 57: 256000, 64: 512000, 71: 1024000})\n"
          ],
          "name": "stdout"
        }
      ]
    },
    {
      "cell_type": "code",
      "metadata": {
        "id": "twfADiI7Xq_5",
        "colab_type": "code",
        "outputId": "8c632121-9336-4e10-d0cb-140fc1a1d2e8",
        "colab": {
          "base_uri": "https://localhost:8080/",
          "height": 295
        }
      },
      "source": [
        "import matplotlib.pyplot as plt\n",
        "%matplotlib inline\n",
        "\n",
        "result\n",
        "plt.plot(list(result.keys()), list(result.values()))\n",
        "plt.ylabel(\"Infizierte\")\n",
        "plt.xlabel(\"Tage\")\n",
        "plt.title(\"Entwicklung Coronainfektionen\")\n",
        "plt.show()"
      ],
      "execution_count": 0,
      "outputs": [
        {
          "output_type": "display_data",
          "data": {
            "image/png": "[encoded data removed]",
            "text/plain": [
              "<Figure size 432x288 with 1 Axes>"
            ]
          },
          "metadata": {
            "tags": []
          }
        }
      ]
    }
  ]
}
