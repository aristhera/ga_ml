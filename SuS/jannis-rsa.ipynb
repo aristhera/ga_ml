{
 "cells": [
  {
   "cell_type": "code",
   "execution_count": 1,
   "metadata": {},
   "outputs": [],
   "source": [
    "import random,math,string"
   ]
  },
  {
   "cell_type": "code",
   "execution_count": 2,
   "metadata": {},
   "outputs": [],
   "source": [
    "def isPrime(a):\n",
    "    if (a < 2):\n",
    "        return False\n",
    "    \n",
    "    for i in range(2, int(math.sqrt(a))):\n",
    "        if a % i == 0:\n",
    "            return False\n",
    "    return True\n",
    "\n",
    "\n",
    "def generatePrime(a):\n",
    "    while True:\n",
    "        num = random.randint(2**(a-1), 2**(a))\n",
    "        if isPrime(num):\n",
    "            return num\n",
    "\n",
    "# Iterative Algorithm (xgcd)\n",
    "def iterative_egcd(a, b):\n",
    "    x,y, u,v = 0,1, 1,0\n",
    "    while a != 0:\n",
    "        q,r = b//a,b%a; m,n = x-u*q,y-v*q # use x//y for floor \"floor division\"\n",
    "        b,a, x,y, u,v = a,r, u,v, m,n\n",
    "    return b, x, y\n",
    "\n",
    "def invmod(a, m):\n",
    "    g, x, y = iterative_egcd(a, m) \n",
    "    if g != 1:\n",
    "        return None\n",
    "    else:\n",
    "        return x % m"
   ]
  },
  {
   "cell_type": "code",
   "execution_count": 3,
   "metadata": {},
   "outputs": [
    {
     "name": "stdout",
     "output_type": "stream",
     "text": [
      "3338797349 2411188249 8050468933701151901 2800969727 6943685550845891615\n"
     ]
    }
   ],
   "source": [
    "keylength=32\n",
    "p = generatePrime(keylength)\n",
    "q = generatePrime(keylength)\n",
    "N=p*q\n",
    "\n",
    "while True:\n",
    "    e = random.randint(2**(keylength-1), 2**(keylength))\n",
    "    if math.gcd(e, (p-1)*(q-1)) == 1:\n",
    "        break\n",
    "\n",
    "d = invmod(e, ((p-1)*(q-1)))\n",
    "\n",
    "print(p,q,N,e,d)\n",
    "\n",
    "def enc(a):\n",
    "    return pow(a, e, N)\n",
    "\n",
    "def dec(a):\n",
    "    return pow(a, d, N)"
   ]
  },
  {
   "cell_type": "code",
   "execution_count": 4,
   "metadata": {},
   "outputs": [
    {
     "name": "stdout",
     "output_type": "stream",
     "text": [
      "encrypted [1713651507667233292, 7539306739829676172, 6119511585682202170, 6435122566880598790, 8022393552833116033, 4342712035052971371, 2339264259793556745, 6435122566880598790, 7906050230470129565, 4342712035052971371, 6636603621823330193, 2339264259793556745, 7539306739829676172, 6636603621823330193]\n",
      "decrypted [44, 12, 17, 94, 11, 18, 23, 94, 37, 18, 10, 23, 12, 10] Ich bin Bianca\n"
     ]
    }
   ],
   "source": [
    "text=\"Ich bin Bianca\"\n",
    "\n",
    "a=[]\n",
    "for char in text:\n",
    "    a.append(enc(string.printable.find(char)))\n",
    "\n",
    "print(\"encrypted\",a)\n",
    "\n",
    "\n",
    "b=[]\n",
    "dec_text=\"\"\n",
    "i=0\n",
    "for c in a:\n",
    "    b.append(dec(c))\n",
    "    dec_text+=string.printable[b[i]]\n",
    "    i+=1\n",
    "\n",
    "print(\"decrypted\", b, dec_text)"
   ]
  },
  {
   "cell_type": "code",
   "execution_count": null,
   "metadata": {},
   "outputs": [],
   "source": []
  }
 ],
 "metadata": {
  "kernelspec": {
   "display_name": "Python 3",
   "language": "python",
   "name": "python3"
  },
  "language_info": {
   "codemirror_mode": {
    "name": "ipython",
    "version": 3
   },
   "file_extension": ".py",
   "mimetype": "text/x-python",
   "name": "python",
   "nbconvert_exporter": "python",
   "pygments_lexer": "ipython3",
   "version": "3.7.1"
  }
 },
 "nbformat": 4,
 "nbformat_minor": 2
}
