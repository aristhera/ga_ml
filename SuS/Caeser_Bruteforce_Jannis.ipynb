{
 "cells": [
  {
   "cell_type": "code",
   "execution_count": 47,
   "metadata": {},
   "outputs": [],
   "source": [
    "from random import randint\n",
    "from string import printable\n",
    "import detectEnglish"
   ]
  },
  {
   "cell_type": "code",
   "execution_count": 48,
   "metadata": {},
   "outputs": [],
   "source": [
    "chars=printable\n",
    "shift=randint(1,len(chars))\n",
    "plain=\"Space, the final frontier. These are the voyages of the starship Enterprise. Its continuing mission: to explore strange new worlds, to seek out new life and new civilisations, to boldly go where no one has gone before.\"\n",
    "encrypted=\"\""
   ]
  },
  {
   "cell_type": "code",
   "execution_count": 49,
   "metadata": {},
   "outputs": [
    {
     "name": "stdout",
     "output_type": "stream",
     "text": [
      "Shift: 66\n"
     ]
    }
   ],
   "source": [
    "print(\"Shift: \" + str(shift))"
   ]
  },
  {
   "cell_type": "code",
   "execution_count": 50,
   "metadata": {},
   "outputs": [],
   "source": [
    "for i in plain:\n",
    "    encrypted+=chars[(chars.find(i) + shift) % len(chars)]"
   ]
  },
  {
   "cell_type": "code",
   "execution_count": 51,
   "metadata": {},
   "outputs": [
    {
     "name": "stdout",
     "output_type": "stream",
     "text": [
      "Encrypted:\n",
      "{0/?= Y{>Y\t@=Y \t/~ @[|Y6`\t=~|~[ =FYa\t Y;{`\t[`\n",
      "[`?Y_[  [{`HY\t{Y=\f",
      "|^{~=Y \t~/`?=Y`=\u000b",
      "Y\u000b",
      "{~^< DY\t{Y ==]Y{\n",
      "[^[ /\t[{` DY\t{Y:{^<^0Y?{Y\u000b",
      "@=~=Y`{Y{`=Y@/ Y?{`=Y:=>{~=F\n"
     ]
    }
   ],
   "source": [
    "print(\"Encrypted:\")\n",
    "print(encrypted)"
   ]
  },
  {
   "cell_type": "code",
   "execution_count": 52,
   "metadata": {
    "scrolled": true
   },
   "outputs": [
    {
     "name": "stdout",
     "output_type": "stream",
     "text": [
      "Possible key found: 66, Decrypted: Space, the final frontier. These are the voyages of the starship Enterprise. Its continuing mission: to explore strange new worlds, to seek out new life and new civilisations, to boldly go where no one has gone before.\n"
     ]
    }
   ],
   "source": [
    "for i in range(1,len(chars)+1):\n",
    "    decrypted=\"\"\n",
    "    for i1 in encrypted:\n",
    "        decrypted+=chars[chars.find(i1)-i]\n",
    "    if detectEnglish.isEnglish(decrypted):\n",
    "        print(\"Possible key found: \" + str(i) + \", Decrypted: \" + decrypted)"
   ]
  }
 ],
 "metadata": {
  "kernelspec": {
   "display_name": "Python 3",
   "language": "python",
   "name": "python3"
  },
  "language_info": {
   "codemirror_mode": {
    "name": "ipython",
    "version": 3
   },
   "file_extension": ".py",
   "mimetype": "text/x-python",
   "name": "python",
   "nbconvert_exporter": "python",
   "pygments_lexer": "ipython3",
   "version": "3.7.6"
  }
 },
 "nbformat": 4,
 "nbformat_minor": 4
}
